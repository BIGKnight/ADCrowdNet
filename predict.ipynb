{
 "cells": [
  {
   "cell_type": "code",
   "execution_count": 1,
   "metadata": {},
   "outputs": [],
   "source": [
    "import tensorflow as tf\n",
    "import numpy as np\n",
    "import sys\n",
    "import matplotlib.pyplot as plt\n",
    "from tensorflow.python.framework import ops\n",
    "%matplotlib inline"
   ]
  },
  {
   "cell_type": "code",
   "execution_count": 3,
   "metadata": {},
   "outputs": [
    {
     "name": "stdout",
     "output_type": "stream",
     "text": [
      "INFO:tensorflow:Restoring parameters from ./checkpoint_dir/MyModel_deformable\n"
     ]
    }
   ],
   "source": [
    "deformable_conv2d_module = tf.load_op_library('./deformable_conv2d_op/deformable_conv2d.so')\n",
    "# deformable_conv2d_op = deformable_conv2d_module.deformable_conv2d\n",
    "sess = tf.Session()\n",
    "saver = tf.train.import_meta_graph('./checkpoint_dir/MyModel_deformable.meta')\n",
    "saver.restore(sess, tf.train.latest_checkpoint('./checkpoint_dir'))\n",
    "graph = tf.get_default_graph()\n",
    "\n",
    "x = graph.get_tensor_by_name(\"input:0\")\n",
    "y = graph.get_tensor_by_name('label:0')\n",
    "\n",
    "loss = graph.get_tensor_by_name('loss:0')\n",
    "estimated_density_map = graph.get_tensor_by_name('ed_map:0')\n",
    "estimated_counting = graph.get_tensor_by_name('estimated_counting:0')\n",
    "gt_counting = graph.get_tensor_by_name('gt_counting:0')\n",
    "gt_map = graph.get_tensor_by_name('gt_map:0')\n",
    "\n",
    "image_test_path = \"/home/zzn/part_B_final/train_data/images_validate.npy\"\n",
    "gt_test_path = \"/home/zzn/part_B_final/train_data/gt_validate.npy\"\n",
    "image_test_data = np.load(image_test_path)\n",
    "gt_test_data = np.load(gt_test_path)\n",
    "length = len(image_test_data)"
   ]
  },
  {
   "cell_type": "code",
   "execution_count": 1,
   "metadata": {
    "scrolled": false
   },
   "outputs": [
    {
     "ename": "NameError",
     "evalue": "name 'length' is not defined",
     "traceback": [
      "\u001b[0;31m---------------------------------------------------------------------------\u001b[0m",
      "\u001b[0;31mNameError\u001b[0m                                 Traceback (most recent call last)",
      "\u001b[0;32m<ipython-input-1-9066e1136c26>\u001b[0m in \u001b[0;36m<module>\u001b[0;34m\u001b[0m\n\u001b[1;32m      1\u001b[0m \u001b[0mgt_nums\u001b[0m \u001b[0;34m=\u001b[0m \u001b[0;34m[\u001b[0m\u001b[0;34m]\u001b[0m\u001b[0;34m\u001b[0m\u001b[0m\n\u001b[1;32m      2\u001b[0m \u001b[0mpred_nums\u001b[0m \u001b[0;34m=\u001b[0m \u001b[0;34m[\u001b[0m\u001b[0;34m]\u001b[0m\u001b[0;34m\u001b[0m\u001b[0m\n\u001b[0;32m----> 3\u001b[0;31m \u001b[0;32mfor\u001b[0m \u001b[0mi\u001b[0m \u001b[0;32min\u001b[0m \u001b[0mrange\u001b[0m\u001b[0;34m(\u001b[0m\u001b[0mlength\u001b[0m\u001b[0;34m)\u001b[0m\u001b[0;34m:\u001b[0m\u001b[0;34m\u001b[0m\u001b[0m\n\u001b[0m\u001b[1;32m      4\u001b[0m     \u001b[0mpred_dm\u001b[0m \u001b[0;34m=\u001b[0m \u001b[0msess\u001b[0m\u001b[0;34m.\u001b[0m\u001b[0mrun\u001b[0m\u001b[0;34m(\u001b[0m\u001b[0mestimated_density_map\u001b[0m\u001b[0;34m,\u001b[0m \u001b[0mfeed_dict\u001b[0m\u001b[0;34m=\u001b[0m\u001b[0;34m{\u001b[0m\u001b[0mx\u001b[0m\u001b[0;34m:\u001b[0m \u001b[0mimage_test_data\u001b[0m\u001b[0;34m[\u001b[0m\u001b[0mi\u001b[0m\u001b[0;34m:\u001b[0m\u001b[0mi\u001b[0m\u001b[0;34m+\u001b[0m\u001b[0;36m1\u001b[0m\u001b[0;34m]\u001b[0m\u001b[0;34m,\u001b[0m \u001b[0my\u001b[0m\u001b[0;34m:\u001b[0m \u001b[0mgt_test_data\u001b[0m\u001b[0;34m[\u001b[0m\u001b[0mi\u001b[0m\u001b[0;34m:\u001b[0m\u001b[0mi\u001b[0m\u001b[0;34m+\u001b[0m\u001b[0;36m1\u001b[0m\u001b[0;34m]\u001b[0m\u001b[0;34m}\u001b[0m\u001b[0;34m)\u001b[0m\u001b[0;34m\u001b[0m\u001b[0m\n\u001b[1;32m      5\u001b[0m     \u001b[0mgt_num\u001b[0m \u001b[0;34m=\u001b[0m \u001b[0msess\u001b[0m\u001b[0;34m.\u001b[0m\u001b[0mrun\u001b[0m\u001b[0;34m(\u001b[0m\u001b[0mgt_counting\u001b[0m\u001b[0;34m,\u001b[0m \u001b[0mfeed_dict\u001b[0m\u001b[0;34m=\u001b[0m\u001b[0;34m{\u001b[0m\u001b[0mx\u001b[0m\u001b[0;34m:\u001b[0m \u001b[0mimage_test_data\u001b[0m\u001b[0;34m[\u001b[0m\u001b[0mi\u001b[0m\u001b[0;34m:\u001b[0m\u001b[0mi\u001b[0m\u001b[0;34m+\u001b[0m\u001b[0;36m1\u001b[0m\u001b[0;34m]\u001b[0m\u001b[0;34m,\u001b[0m \u001b[0my\u001b[0m\u001b[0;34m:\u001b[0m \u001b[0mgt_test_data\u001b[0m\u001b[0;34m[\u001b[0m\u001b[0mi\u001b[0m\u001b[0;34m:\u001b[0m\u001b[0mi\u001b[0m\u001b[0;34m+\u001b[0m\u001b[0;36m1\u001b[0m\u001b[0;34m]\u001b[0m\u001b[0;34m}\u001b[0m\u001b[0;34m)\u001b[0m\u001b[0;34m\u001b[0m\u001b[0m\n",
      "\u001b[0;31mNameError\u001b[0m: name 'length' is not defined"
     ],
     "output_type": "error"
    }
   ],
   "source": [
    "gt_nums = []\n",
    "pred_nums = []\n",
    "for i in range(length):\n",
    "    pred_dm = sess.run(estimated_density_map, feed_dict={x: image_test_data[i:i+1], y: gt_test_data[i:i+1]})\n",
    "    gt_num = sess.run(gt_counting, feed_dict={x: image_test_data[i:i+1], y: gt_test_data[i:i+1]})\n",
    "    pred_num = sess.run(estimated_counting, feed_dict={x: image_test_data[i:i+1], y: gt_test_data[i:i+1]})\n",
    "    map_gt = sess.run(gt_map, feed_dict={x: image_test_data[i:i+1], y: gt_test_data[i:i+1]})    \n",
    "    pred_dm = np.squeeze(pred_dm)\n",
    "    gt_num = np.squeeze(gt_num)\n",
    "    pred_num = np.squeeze(pred_num)\n",
    "    map_gt = np.squeeze(map_gt)\n",
    "    \n",
    "    gt_nums.append(gt_num)\n",
    "    pred_nums.append(pred_num)\n",
    "    \n",
    "    figure, (origin, dm_gt, dm_pred) = plt.subplots(1, 3, figsize=(20, 4))\n",
    "    origin.imshow(image_test_data[i])\n",
    "    origin.set_title('Origin Image')\n",
    "    dm_gt.imshow(map_gt, cmap=plt.cm.jet)\n",
    "    dm_gt.set_title('ground_truth')\n",
    "    dm_pred.imshow(pred_dm, cmap=plt.cm.jet)\n",
    "    dm_pred.set_title('prediction')\n",
    "    plt.suptitle('The ' + str(i + 1) + 'st images\\'prediction')\n",
    "    plt.show()\n",
    "    sys.stdout.write('The grount truth crowd number is:{}, and the predicting number is:{}\\n'.format(gt_num, pred_num))\n",
    "    sys.stdout.flush()\n",
    "MAE = np.mean(np.abs(np.subtract(gt_nums, pred_nums)))\n",
    "MSE = np.sqrt(np.mean(np.square(np.subtract(gt_nums, pred_nums))))"
   ]
  },
  {
   "cell_type": "code",
   "execution_count": 6,
   "metadata": {},
   "outputs": [
    {
     "name": "stdout",
     "output_type": "stream",
     "text": [
      "52.509186\n"
     ]
    }
   ],
   "source": [
    "print(MAE)"
   ]
  },
  {
   "cell_type": "code",
   "execution_count": null,
   "metadata": {},
   "outputs": [
    {
     "name": "stdout",
     "output_type": "stream",
     "text": [
      "INFO:tensorflow:Restoring parameters from ./checkpoint_dir/MyModel_deformable\n"
     ]
    }
   ],
   "source": [
    "import tensorflow as tf\n",
    "import numpy as np\n",
    "import sys\n",
    "import matplotlib.pyplot as plt\n",
    "from tensorflow.python.framework import ops\n",
    "%matplotlib inline\n",
    "\n",
    "deformable_conv2d_module = tf.load_op_library('./deformable_conv2d_op/deformable_conv2d.so')\n",
    "\n",
    "sess = tf.Session()\n",
    "saver = tf.train.import_meta_graph('./checkpoint_dir/model_deformable_dme.meta')\n",
    "saver.restore(sess, tf.train.latest_checkpoint('./checkpoint_dir'))\n",
    "graph = tf.get_default_graph()\n",
    "graph.get_operations()[40:]\n",
    "# a = graph.get_tensor_by_name(\"deformable_inception_1/offset_mask_parameters_part_1/weights:0\")\n",
    "# print(sess.run(a))\n"
   ]
  }
 ],
 "metadata": {
  "kernelspec": {
   "display_name": "tensorflow-gpu",
   "language": "python",
   "name": "tensorflow-gpu"
  },
  "language_info": {
   "codemirror_mode": {
    "name": "ipython",
    "version": 3
   },
   "file_extension": ".py",
   "mimetype": "text/x-python",
   "name": "python",
   "nbconvert_exporter": "python",
   "pygments_lexer": "ipython3",
   "version": "3.5.2"
  }
 },
 "nbformat": 4,
 "nbformat_minor": 2
}
