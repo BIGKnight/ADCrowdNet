{
 "cells": [
  {
   "cell_type": "code",
   "execution_count": 1,
   "metadata": {},
   "outputs": [],
   "source": [
    "import ADCrowdNet\n",
    "import tensorflow as tf"
   ]
  },
  {
   "cell_type": "code",
   "execution_count": 20,
   "metadata": {},
   "outputs": [
    {
     "name": "stdout",
     "output_type": "stream",
     "text": [
      "[[[[1. 2.]\n",
      "   [1. 2.]\n",
      "   [1. 2.]]\n",
      "\n",
      "  [[1. 2.]\n",
      "   [1. 2.]\n",
      "   [1. 2.]]\n",
      "\n",
      "  [[1. 2.]\n",
      "   [1. 2.]\n",
      "   [1. 2.]]]\n",
      "\n",
      "\n",
      " [[[1. 2.]\n",
      "   [1. 2.]\n",
      "   [1. 2.]]\n",
      "\n",
      "  [[1. 2.]\n",
      "   [1. 2.]\n",
      "   [1. 2.]]\n",
      "\n",
      "  [[1. 2.]\n",
      "   [1. 2.]\n",
      "   [1. 2.]]]]\n",
      "[[[[3.]\n",
      "   [3.]\n",
      "   [3.]]\n",
      "\n",
      "  [[3.]\n",
      "   [3.]\n",
      "   [3.]]\n",
      "\n",
      "  [[3.]\n",
      "   [3.]\n",
      "   [3.]]]\n",
      "\n",
      "\n",
      " [[[3.]\n",
      "   [3.]\n",
      "   [3.]]\n",
      "\n",
      "  [[3.]\n",
      "   [3.]\n",
      "   [3.]]\n",
      "\n",
      "  [[3.]\n",
      "   [3.]\n",
      "   [3.]]]]\n"
     ]
    }
   ],
   "source": [
    "\n",
    "\n",
    "with tf.Session() as sess:\n",
    "    w1 = tf.constant([[1., 2.], [3., 4.]])\n",
    "    w2 = tf.constant([[[[1., 2., 3.] for i in range(3)] for j in range(3)], [[[1., 2., 3.] for i in range(3)] for j in range(3)]])\n",
    "#     w2= tf.split(w2, 2, 0)\n",
    "#     w3 = tf.nn.softmax(w1, 1)\n",
    "#     w1 = tf.split(w1, 2, 0)\n",
    "#     lit = []\n",
    "#     for i, j in zip(w1, w2):\n",
    "#         i = tf.squeeze(i)\n",
    "#         fb, fc = tf.split(j, 2, 3)\n",
    "#         lit.append(i[0] * fb + i[1] * fc)\n",
    "#     print(sess.run(w3))\n",
    "#     print(sess.run(tf.concat(lit, 0)))\n",
    "#     lit = []\n",
    "#     for i, j in zip(w1, w2):\n",
    "#         fb, fc = tf.split(j, 2, axis=3)\n",
    "#         lit.append(i[0] * fb + i[1] * fc)\n",
    "    offset = tf.slice(w2, [0, 0, 0, 0], [2, 3, 3, 2])\n",
    "    mask = tf.slice(w2, [0, 0, 0, 2], [2, 3, 3, 1])\n",
    "    print(sess.run(offset))\n",
    "    print(sess.run(mask))"
   ]
  },
  {
   "cell_type": "code",
   "execution_count": 26,
   "metadata": {},
   "outputs": [
    {
     "data": {
      "text/plain": [
       "'/home/zzn/SANet_implementation-master/lib/python3.5/site-packages/tensorflow/include'"
      ]
     },
     "execution_count": 26,
     "metadata": {},
     "output_type": "execute_result"
    }
   ],
   "source": [
    "import tensorflow as tf\n",
    "import sys\n",
    "tf.sysconfig.get_include()"
   ]
  },
  {
   "cell_type": "code",
   "execution_count": 21,
   "metadata": {},
   "outputs": [
    {
     "name": "stdout",
     "output_type": "stream",
     "text": [
      "11 8\n",
      "[[[[0 1 2 0 1 2 0 1 2]\n",
      "   [1 2 3 1 2 3 1 2 3]\n",
      "   [2 3 4 2 3 4 2 3 4]\n",
      "   [3 4 5 3 4 5 3 4 5]\n",
      "   [4 5 6 4 5 6 4 5 6]\n",
      "   [5 6 7 5 6 7 5 6 7]]\n",
      "\n",
      "  [[0 1 2 0 1 2 0 1 2]\n",
      "   [1 2 3 1 2 3 1 2 3]\n",
      "   [2 3 4 2 3 4 2 3 4]\n",
      "   [3 4 5 3 4 5 3 4 5]\n",
      "   [4 5 6 4 5 6 4 5 6]\n",
      "   [5 6 7 5 6 7 5 6 7]]\n",
      "\n",
      "  [[0 1 2 0 1 2 0 1 2]\n",
      "   [1 2 3 1 2 3 1 2 3]\n",
      "   [2 3 4 2 3 4 2 3 4]\n",
      "   [3 4 5 3 4 5 3 4 5]\n",
      "   [4 5 6 4 5 6 4 5 6]\n",
      "   [5 6 7 5 6 7 5 6 7]]\n",
      "\n",
      "  [[0 1 2 0 1 2 0 1 2]\n",
      "   [1 2 3 1 2 3 1 2 3]\n",
      "   [2 3 4 2 3 4 2 3 4]\n",
      "   [3 4 5 3 4 5 3 4 5]\n",
      "   [4 5 6 4 5 6 4 5 6]\n",
      "   [5 6 7 5 6 7 5 6 7]]\n",
      "\n",
      "  [[0 1 2 0 1 2 0 1 2]\n",
      "   [1 2 3 1 2 3 1 2 3]\n",
      "   [2 3 4 2 3 4 2 3 4]\n",
      "   [3 4 5 3 4 5 3 4 5]\n",
      "   [4 5 6 4 5 6 4 5 6]\n",
      "   [5 6 7 5 6 7 5 6 7]]\n",
      "\n",
      "  [[0 1 2 0 1 2 0 1 2]\n",
      "   [1 2 3 1 2 3 1 2 3]\n",
      "   [2 3 4 2 3 4 2 3 4]\n",
      "   [3 4 5 3 4 5 3 4 5]\n",
      "   [4 5 6 4 5 6 4 5 6]\n",
      "   [5 6 7 5 6 7 5 6 7]]\n",
      "\n",
      "  [[0 1 2 0 1 2 0 1 2]\n",
      "   [1 2 3 1 2 3 1 2 3]\n",
      "   [2 3 4 2 3 4 2 3 4]\n",
      "   [3 4 5 3 4 5 3 4 5]\n",
      "   [4 5 6 4 5 6 4 5 6]\n",
      "   [5 6 7 5 6 7 5 6 7]]\n",
      "\n",
      "  [[0 1 2 0 1 2 0 1 2]\n",
      "   [1 2 3 1 2 3 1 2 3]\n",
      "   [2 3 4 2 3 4 2 3 4]\n",
      "   [3 4 5 3 4 5 3 4 5]\n",
      "   [4 5 6 4 5 6 4 5 6]\n",
      "   [5 6 7 5 6 7 5 6 7]]\n",
      "\n",
      "  [[0 1 2 0 1 2 0 1 2]\n",
      "   [1 2 3 1 2 3 1 2 3]\n",
      "   [2 3 4 2 3 4 2 3 4]\n",
      "   [3 4 5 3 4 5 3 4 5]\n",
      "   [4 5 6 4 5 6 4 5 6]\n",
      "   [5 6 7 5 6 7 5 6 7]]]]\n",
      "[[[[ 0  0  0  1  1  1  2  2  2]\n",
      "   [ 0  0  0  1  1  1  2  2  2]\n",
      "   [ 0  0  0  1  1  1  2  2  2]\n",
      "   [ 0  0  0  1  1  1  2  2  2]\n",
      "   [ 0  0  0  1  1  1  2  2  2]\n",
      "   [ 0  0  0  1  1  1  2  2  2]]\n",
      "\n",
      "  [[ 1  1  1  2  2  2  3  3  3]\n",
      "   [ 1  1  1  2  2  2  3  3  3]\n",
      "   [ 1  1  1  2  2  2  3  3  3]\n",
      "   [ 1  1  1  2  2  2  3  3  3]\n",
      "   [ 1  1  1  2  2  2  3  3  3]\n",
      "   [ 1  1  1  2  2  2  3  3  3]]\n",
      "\n",
      "  [[ 2  2  2  3  3  3  4  4  4]\n",
      "   [ 2  2  2  3  3  3  4  4  4]\n",
      "   [ 2  2  2  3  3  3  4  4  4]\n",
      "   [ 2  2  2  3  3  3  4  4  4]\n",
      "   [ 2  2  2  3  3  3  4  4  4]\n",
      "   [ 2  2  2  3  3  3  4  4  4]]\n",
      "\n",
      "  [[ 3  3  3  4  4  4  5  5  5]\n",
      "   [ 3  3  3  4  4  4  5  5  5]\n",
      "   [ 3  3  3  4  4  4  5  5  5]\n",
      "   [ 3  3  3  4  4  4  5  5  5]\n",
      "   [ 3  3  3  4  4  4  5  5  5]\n",
      "   [ 3  3  3  4  4  4  5  5  5]]\n",
      "\n",
      "  [[ 4  4  4  5  5  5  6  6  6]\n",
      "   [ 4  4  4  5  5  5  6  6  6]\n",
      "   [ 4  4  4  5  5  5  6  6  6]\n",
      "   [ 4  4  4  5  5  5  6  6  6]\n",
      "   [ 4  4  4  5  5  5  6  6  6]\n",
      "   [ 4  4  4  5  5  5  6  6  6]]\n",
      "\n",
      "  [[ 5  5  5  6  6  6  7  7  7]\n",
      "   [ 5  5  5  6  6  6  7  7  7]\n",
      "   [ 5  5  5  6  6  6  7  7  7]\n",
      "   [ 5  5  5  6  6  6  7  7  7]\n",
      "   [ 5  5  5  6  6  6  7  7  7]\n",
      "   [ 5  5  5  6  6  6  7  7  7]]\n",
      "\n",
      "  [[ 6  6  6  7  7  7  8  8  8]\n",
      "   [ 6  6  6  7  7  7  8  8  8]\n",
      "   [ 6  6  6  7  7  7  8  8  8]\n",
      "   [ 6  6  6  7  7  7  8  8  8]\n",
      "   [ 6  6  6  7  7  7  8  8  8]\n",
      "   [ 6  6  6  7  7  7  8  8  8]]\n",
      "\n",
      "  [[ 7  7  7  8  8  8  9  9  9]\n",
      "   [ 7  7  7  8  8  8  9  9  9]\n",
      "   [ 7  7  7  8  8  8  9  9  9]\n",
      "   [ 7  7  7  8  8  8  9  9  9]\n",
      "   [ 7  7  7  8  8  8  9  9  9]\n",
      "   [ 7  7  7  8  8  8  9  9  9]]\n",
      "\n",
      "  [[ 8  8  8  9  9  9 10 10 10]\n",
      "   [ 8  8  8  9  9  9 10 10 10]\n",
      "   [ 8  8  8  9  9  9 10 10 10]\n",
      "   [ 8  8  8  9  9  9 10 10 10]\n",
      "   [ 8  8  8  9  9  9 10 10 10]\n",
      "   [ 8  8  8  9  9  9 10 10 10]]]]\n"
     ]
    }
   ],
   "source": [
    "import tensorflow as tf\n",
    "in_h, in_w = [int(i) for i in [11, 8]]\n",
    "print(in_h, in_w)\n",
    "feat_h, feat_w = [int(i) for i in [in_h, in_w]]\n",
    "x, y = tf.meshgrid(tf.range(feat_w), tf.range(feat_h))\n",
    "x, y = [tf.reshape(i, [1, *i.get_shape(), 1]) for i in [x, y]]  # shape [1, h, w, 1]\n",
    "x, y = [tf.image.extract_image_patches(i, [1, 3, 3, 1], [1, 1, 1, 1], [1, 1, 1, 1], 'VALID') \n",
    "        for i in [x, y]] \n",
    "sess = tf.Session()\n",
    "a, b = sess.run([x, y])\n",
    "for i in [a, b]:\n",
    "    print(i)"
   ]
  },
  {
   "cell_type": "code",
   "execution_count": 1,
   "metadata": {},
   "outputs": [
    {
     "ename": "NameError",
     "evalue": "name 'tf' is not defined",
     "output_type": "error",
     "traceback": [
      "\u001b[0;31m---------------------------------------------------------------------------\u001b[0m",
      "\u001b[0;31mNameError\u001b[0m                                 Traceback (most recent call last)",
      "\u001b[0;32m<ipython-input-1-6035a99ca3f7>\u001b[0m in \u001b[0;36m<module>\u001b[0;34m\u001b[0m\n\u001b[1;32m      1\u001b[0m \u001b[0;34m\u001b[0m\u001b[0m\n\u001b[1;32m      2\u001b[0m \u001b[0;34m\u001b[0m\u001b[0m\n\u001b[0;32m----> 3\u001b[0;31m \u001b[0minputs\u001b[0m \u001b[0;34m=\u001b[0m \u001b[0mtf\u001b[0m\u001b[0;34m.\u001b[0m\u001b[0mplaceholder\u001b[0m\u001b[0;34m(\u001b[0m\u001b[0mtf\u001b[0m\u001b[0;34m.\u001b[0m\u001b[0mfloat32\u001b[0m\u001b[0;34m,\u001b[0m \u001b[0;34m[\u001b[0m\u001b[0;32mNone\u001b[0m\u001b[0;34m,\u001b[0m \u001b[0;36m224\u001b[0m\u001b[0;34m,\u001b[0m \u001b[0;36m224\u001b[0m\u001b[0;34m,\u001b[0m \u001b[0;36m3\u001b[0m\u001b[0;34m]\u001b[0m\u001b[0;34m)\u001b[0m\u001b[0;34m\u001b[0m\u001b[0m\n\u001b[0m\u001b[1;32m      4\u001b[0m \u001b[0mfront_end\u001b[0m\u001b[0;34m,\u001b[0m \u001b[0minit_fn\u001b[0m \u001b[0;34m=\u001b[0m \u001b[0mADCrowdNet\u001b[0m\u001b[0;34m.\u001b[0m\u001b[0mADCrowdNet_model\u001b[0m\u001b[0;34m(\u001b[0m\u001b[0minputs\u001b[0m\u001b[0;34m)\u001b[0m\u001b[0;34m\u001b[0m\u001b[0m\n\u001b[1;32m      5\u001b[0m \u001b[0msess\u001b[0m \u001b[0;34m=\u001b[0m \u001b[0mtf\u001b[0m\u001b[0;34m.\u001b[0m\u001b[0mSession\u001b[0m\u001b[0;34m(\u001b[0m\u001b[0;34m)\u001b[0m\u001b[0;34m\u001b[0m\u001b[0m\n",
      "\u001b[0;31mNameError\u001b[0m: name 'tf' is not defined"
     ]
    }
   ],
   "source": [
    "\n",
    "\n",
    "inputs = tf.placeholder(tf.float32, [None, 224, 224, 3])\n",
    "front_end, init_fn = ADCrowdNet.ADCrowdNet_model(inputs)\n",
    "sess = tf.Session()\n",
    "init_op = tf.global_variables_initializer()\n",
    "sess.run(init_op)\n",
    "init_fn(sess)"
   ]
  },
  {
   "cell_type": "code",
   "execution_count": 3,
   "metadata": {},
   "outputs": [
    {
     "data": {
      "text/plain": [
       "[]"
      ]
     },
     "execution_count": 3,
     "metadata": {},
     "output_type": "execute_result"
    }
   ],
   "source": [
    "tf.Graph().get_operations()"
   ]
  }
 ],
 "metadata": {
  "kernelspec": {
   "display_name": "tensorflow-gpu",
   "language": "python",
   "name": "tensorflow-gpu"
  },
  "language_info": {
   "codemirror_mode": {
    "name": "ipython",
    "version": 3
   },
   "file_extension": ".py",
   "mimetype": "text/x-python",
   "name": "python",
   "nbconvert_exporter": "python",
   "pygments_lexer": "ipython3",
   "version": "3.5.2"
  }
 },
 "nbformat": 4,
 "nbformat_minor": 2
}
